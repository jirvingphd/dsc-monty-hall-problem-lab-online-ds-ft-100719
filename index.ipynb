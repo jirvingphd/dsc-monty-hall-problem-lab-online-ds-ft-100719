{
 "cells": [
  {
   "cell_type": "markdown",
   "metadata": {},
   "source": [
    "# The Monty Hall Problem\n",
    "\n",
    "## Introduction\n",
    "\n",
    "The Monty Hall problem is a famous little puzzle from a game show. It goes like this: you are presented with 3 doors. Behind two are goats and behind the third is a car. You are asked to select a door; if you select the door with the car, you win! After selecting, the host then opens one of the remaining two doors, revealing a goat. The host then asks if you would like to switch doors or stick with your original choice. What would you do? Does it matter?\n",
    "\n",
    "<img src=\"images/Image_58_MontyHall.png\">\n",
    "\n",
    "## Objectives\n",
    "\n",
    "In this lab you will:\n",
    "\n",
    "- Use Bayes' theorem along with a simulation to solve the Monty Hall problem"
   ]
  },
  {
   "cell_type": "markdown",
   "metadata": {},
   "source": [
    "## Run a simulation\n",
    "\n",
    "This is not a traditional application of Bayes' theorem, so trying to formulate the problem as such is tricky at best. That said, the scenario does capture the motivating conception behind Bayesian statistics: updating our beliefs in the face of additional evidence. \n",
    "\n",
    "With this, you'll employ another frequently used tool Bayesians frequently employ, running simulations. \n",
    "\n",
    "To do this, generate a random integer between one and three to represent the door hiding the car. \n",
    "\n",
    "Then, generate a second integer between one and three representing the player's selection. \n",
    "\n",
    "Then, of those the contestant did not choose, select a door concealing a goat to reveal. \n",
    "\n",
    "Record the results of the simulated game if they changed versus if they did not. \n",
    "\n",
    "Repeat this process a thousand (or more) times. \n",
    "\n",
    "Finally, plot the results of your simulation as a line graph. The x-axis should be the number of simulations, and the y-axis should be the probability of winning. (There should be two lines on the graph, one for switching doors, and the other for keeping the original selection.)"
   ]
  },
  {
   "cell_type": "code",
   "execution_count": 1,
   "metadata": {},
   "outputs": [
    {
     "name": "stdout",
     "output_type": "stream",
     "text": [
      "fsds_1007219  v0.4.44 loaded.  Read the docs: https://fsds.readthedocs.io/en/latest/ \n"
     ]
    },
    {
     "data": {
      "text/html": [
       "<style  type=\"text/css\" >\n",
       "</style><table id=\"T_5b7f43ee_130d_11ea_a9a5_a683e748ff0e\" ><caption>Loaded Packages and Handles</caption><thead>    <tr>        <th class=\"col_heading level0 col0\" >Handle</th>        <th class=\"col_heading level0 col1\" >Package</th>        <th class=\"col_heading level0 col2\" >Description</th>    </tr></thead><tbody>\n",
       "                <tr>\n",
       "                                <td id=\"T_5b7f43ee_130d_11ea_a9a5_a683e748ff0erow0_col0\" class=\"data row0 col0\" >dp</td>\n",
       "                        <td id=\"T_5b7f43ee_130d_11ea_a9a5_a683e748ff0erow0_col1\" class=\"data row0 col1\" >IPython.display</td>\n",
       "                        <td id=\"T_5b7f43ee_130d_11ea_a9a5_a683e748ff0erow0_col2\" class=\"data row0 col2\" >Display modules with helpful display and clearing commands.</td>\n",
       "            </tr>\n",
       "            <tr>\n",
       "                                <td id=\"T_5b7f43ee_130d_11ea_a9a5_a683e748ff0erow1_col0\" class=\"data row1 col0\" >fs</td>\n",
       "                        <td id=\"T_5b7f43ee_130d_11ea_a9a5_a683e748ff0erow1_col1\" class=\"data row1 col1\" >fsds_100719</td>\n",
       "                        <td id=\"T_5b7f43ee_130d_11ea_a9a5_a683e748ff0erow1_col2\" class=\"data row1 col2\" >Custom data science bootcamp student package</td>\n",
       "            </tr>\n",
       "            <tr>\n",
       "                                <td id=\"T_5b7f43ee_130d_11ea_a9a5_a683e748ff0erow2_col0\" class=\"data row2 col0\" >mpl</td>\n",
       "                        <td id=\"T_5b7f43ee_130d_11ea_a9a5_a683e748ff0erow2_col1\" class=\"data row2 col1\" >matplotlib</td>\n",
       "                        <td id=\"T_5b7f43ee_130d_11ea_a9a5_a683e748ff0erow2_col2\" class=\"data row2 col2\" >Matplotlib's base OOP module with formatting artists</td>\n",
       "            </tr>\n",
       "            <tr>\n",
       "                                <td id=\"T_5b7f43ee_130d_11ea_a9a5_a683e748ff0erow3_col0\" class=\"data row3 col0\" >plt</td>\n",
       "                        <td id=\"T_5b7f43ee_130d_11ea_a9a5_a683e748ff0erow3_col1\" class=\"data row3 col1\" >matplotlib.pyplot</td>\n",
       "                        <td id=\"T_5b7f43ee_130d_11ea_a9a5_a683e748ff0erow3_col2\" class=\"data row3 col2\" >Matplotlib's matlab-like plotting module</td>\n",
       "            </tr>\n",
       "            <tr>\n",
       "                                <td id=\"T_5b7f43ee_130d_11ea_a9a5_a683e748ff0erow4_col0\" class=\"data row4 col0\" >np</td>\n",
       "                        <td id=\"T_5b7f43ee_130d_11ea_a9a5_a683e748ff0erow4_col1\" class=\"data row4 col1\" >numpy</td>\n",
       "                        <td id=\"T_5b7f43ee_130d_11ea_a9a5_a683e748ff0erow4_col2\" class=\"data row4 col2\" >scientific computing with Python</td>\n",
       "            </tr>\n",
       "            <tr>\n",
       "                                <td id=\"T_5b7f43ee_130d_11ea_a9a5_a683e748ff0erow5_col0\" class=\"data row5 col0\" >pd</td>\n",
       "                        <td id=\"T_5b7f43ee_130d_11ea_a9a5_a683e748ff0erow5_col1\" class=\"data row5 col1\" >pandas</td>\n",
       "                        <td id=\"T_5b7f43ee_130d_11ea_a9a5_a683e748ff0erow5_col2\" class=\"data row5 col2\" >High performance data structures and tools</td>\n",
       "            </tr>\n",
       "            <tr>\n",
       "                                <td id=\"T_5b7f43ee_130d_11ea_a9a5_a683e748ff0erow6_col0\" class=\"data row6 col0\" >sns</td>\n",
       "                        <td id=\"T_5b7f43ee_130d_11ea_a9a5_a683e748ff0erow6_col1\" class=\"data row6 col1\" >seaborn</td>\n",
       "                        <td id=\"T_5b7f43ee_130d_11ea_a9a5_a683e748ff0erow6_col2\" class=\"data row6 col2\" >High-level data visualization library based on matplotlib</td>\n",
       "            </tr>\n",
       "    </tbody></table>"
      ],
      "text/plain": [
       "<pandas.io.formats.style.Styler at 0x11e0cce48>"
      ]
     },
     "metadata": {},
     "output_type": "display_data"
    }
   ],
   "source": [
    "from fsds_100719.imports import *"
   ]
  },
  {
   "cell_type": "code",
   "execution_count": 9,
   "metadata": {},
   "outputs": [
    {
     "name": "stdout",
     "output_type": "stream",
     "text": [
      "2 1\n",
      "[2, 3]\n"
     ]
    }
   ],
   "source": [
    "results = []\n",
    "doors = [1,2,3]\n",
    "prize_door = np.random.choice(doors)#@np.random.randint(1,4)\n",
    "chosen_door = np.random.choice(doors)\n",
    "\n",
    "reveal_doors = doors\n",
    "reveal_doors.remove(chosen_door)\n",
    "show_door = np.random.choice(reveal_doors)\n",
    "\n",
    "if chosen_door==prize_door:\n",
    "    results.append(1)\n",
    "else:\n",
    "    results.append(0)\n",
    "    \n",
    "\n",
    "\n",
    "print(prize_door,chosen_door)\n",
    "print(reveal_doors)"
   ]
  },
  {
   "cell_type": "code",
   "execution_count": null,
   "metadata": {},
   "outputs": [],
   "source": [
    "# Your code here\n",
    "\n",
    "for i in range(10001):\n",
    "    \n",
    "    prize_door = np.random.randint(1,4)\n",
    "    chosen_door = np.random.randint(1,4)\n",
    "    "
   ]
  },
  {
   "cell_type": "markdown",
   "metadata": {},
   "source": [
    "## Summary\n",
    "\n",
    "In this lab, you further investigated the idea of Bayes' theorem and Bayesian statistics in general through the Monty Hall problem. Hopefully, this was an entertaining little experience! "
   ]
  }
 ],
 "metadata": {
  "kernelspec": {
   "display_name": "Python 3",
   "language": "python",
   "name": "python3"
  },
  "language_info": {
   "codemirror_mode": {
    "name": "ipython",
    "version": 3
   },
   "file_extension": ".py",
   "mimetype": "text/x-python",
   "name": "python",
   "nbconvert_exporter": "python",
   "pygments_lexer": "ipython3",
   "version": "3.6.9"
  },
  "toc": {
   "base_numbering": 1,
   "nav_menu": {},
   "number_sections": true,
   "sideBar": true,
   "skip_h1_title": false,
   "title_cell": "Table of Contents",
   "title_sidebar": "Contents",
   "toc_cell": false,
   "toc_position": {},
   "toc_section_display": true,
   "toc_window_display": false
  },
  "varInspector": {
   "cols": {
    "lenName": 16,
    "lenType": 16,
    "lenVar": 40
   },
   "kernels_config": {
    "python": {
     "delete_cmd_postfix": "",
     "delete_cmd_prefix": "del ",
     "library": "var_list.py",
     "varRefreshCmd": "print(var_dic_list())"
    },
    "r": {
     "delete_cmd_postfix": ") ",
     "delete_cmd_prefix": "rm(",
     "library": "var_list.r",
     "varRefreshCmd": "cat(var_dic_list()) "
    }
   },
   "types_to_exclude": [
    "module",
    "function",
    "builtin_function_or_method",
    "instance",
    "_Feature"
   ],
   "window_display": false
  }
 },
 "nbformat": 4,
 "nbformat_minor": 2
}
